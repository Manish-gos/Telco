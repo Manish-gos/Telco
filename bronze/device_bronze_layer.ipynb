{
 "cells": [
  {
   "cell_type": "markdown",
   "metadata": {
    "application/vnd.databricks.v1+cell": {
     "cellMetadata": {
      "byteLimit": 2048000,
      "rowLimit": 10000
     },
     "inputWidgets": {},
     "nuid": "b63a3673-6985-429a-a5a9-37a590ce9188",
     "showTitle": false,
     "tableResultSettingsMap": {},
     "title": ""
    }
   },
   "source": [
    "### reading data from device event contsiner\n"
   ]
  },
  {
   "cell_type": "code",
   "execution_count": 0,
   "metadata": {
    "application/vnd.databricks.v1+cell": {
     "cellMetadata": {
      "byteLimit": 2048000,
      "rowLimit": 10000
     },
     "inputWidgets": {},
     "nuid": "3bf682b1-8594-46f6-98e7-d85bc64e54b6",
     "showTitle": false,
     "tableResultSettingsMap": {},
     "title": ""
    }
   },
   "outputs": [],
   "source": [
    "from pyspark.sql.functions import col, from_json\n",
    "from pyspark.sql.types import StructType, StringType, StructField, IntegerType, DateType, TimestampType\n",
    "\n",
    "# Read Avro files\n",
    "df = spark.read.format('avro') \\\n",
    "    .option('ignoreExtension', 'true') \\\n",
    "    .option(\"recursiveFileLookup\", \"true\") \\\n",
    "    .load('abfss://device-events@telcostoragelayer.dfs.core.windows.net/')\n",
    "\n",
    "# Decode binary body\n",
    "decoded_df = df.select(\n",
    "    col(\"body\").cast(\"string\").alias(\"body_decoded\")\n",
    ")\n",
    "# convert json data into data frame\n",
    "json_schema=StructType([\n",
    "    StructField(\"device_id\", StringType(), False),      # unique device id\n",
    "    StructField(\"customer\", IntegerType(), False),   # linked customer id\n",
    "    StructField(\"imei_number\", StringType(), True),     # IMEI of the device\n",
    "    StructField(\"devicebrand\", StringType(), True),    # e.g. Samsung, Apple, OnePlus\n",
    "    StructField(\"model\", StringType(), True),    # model name\n",
    "    StructField(\"os\", StringType(), True),             # OS version\n",
    "    StructField(\"sim_number\", StringType(), True),      # SIM card number\n",
    "    StructField(\"imsi\", StringType(), True),           # international mobile subscriber identity\n",
    "    StructField(\"network_type\", StringType(), True),    # 3G, 4G, 5G\n",
    "    StructField(\"activation_date\", DateType(), True),   # when device/SIM was activated\n",
    "    StructField(\"status\", StringType(), True),         # Active, Suspended, Deactivated\n",
    "    StructField(\"last_synced\", TimestampType(), True)   # last sync timestamp\n",
    "])\n",
    "data=decoded_df.select(from_json(col(\"body_decoded\"),json_schema).alias(\"data\")).select(\"data.*\").withColumnRenamed('customer','customer_id')\n",
    "#display(data)\n",
    "data=data.coalesce(1)\n",
    "data.write.mode('overwrite').format('parquet').option('path','abfss://bronze@telcostoragelayer.dfs.core.windows.net/device/').save()"
   ]
  },
  {
   "cell_type": "code",
   "execution_count": 0,
   "metadata": {
    "application/vnd.databricks.v1+cell": {
     "cellMetadata": {
      "byteLimit": 2048000,
      "rowLimit": 10000
     },
     "inputWidgets": {},
     "nuid": "6d6e2972-13f0-4f7c-a3ca-93f17d954065",
     "showTitle": false,
     "tableResultSettingsMap": {},
     "title": ""
    }
   },
   "outputs": [],
   "source": [
    "data.display()\n"
   ]
  },
  {
   "cell_type": "code",
   "execution_count": 0,
   "metadata": {
    "application/vnd.databricks.v1+cell": {
     "cellMetadata": {
      "byteLimit": 2048000,
      "rowLimit": 10000
     },
     "inputWidgets": {},
     "nuid": "b4749e57-a8e4-4e77-a17f-91f0bcd5c7a9",
     "showTitle": false,
     "tableResultSettingsMap": {},
     "title": ""
    }
   },
   "outputs": [],
   "source": []
  }
 ],
 "metadata": {
  "application/vnd.databricks.v1+notebook": {
   "computePreferences": null,
   "dashboards": [],
   "environmentMetadata": {
    "base_environment": "",
    "environment_version": "3"
   },
   "inputWidgetPreferences": null,
   "language": "python",
   "notebookMetadata": {
    "pythonIndentUnit": 4
   },
   "notebookName": "device_bronze_layer",
   "widgets": {}
  },
  "language_info": {
   "name": "python"
  }
 },
 "nbformat": 4,
 "nbformat_minor": 0
}

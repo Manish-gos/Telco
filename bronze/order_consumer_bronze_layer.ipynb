{
 "cells": [
  {
   "cell_type": "code",
   "execution_count": 0,
   "metadata": {
    "application/vnd.databricks.v1+cell": {
     "cellMetadata": {
      "byteLimit": 2048000,
      "rowLimit": 10000
     },
     "inputWidgets": {},
     "nuid": "78bf6124-0b29-4762-a827-25b8ee760e60",
     "showTitle": false,
     "tableResultSettingsMap": {},
     "title": ""
    }
   },
   "outputs": [],
   "source": [
    "from pyspark.sql.types import StructType, StringType, IntegerType\n",
    "from pyspark.sql.functions import col, from_json\n",
    "\n",
    "# 1️⃣ Secrets for Event Hub\n",
    "CONNECTION_STR = dbutils.secrets.get(scope = \"telco-secret-keys\", key = \"telco-order-policy\")\n",
    "EVENTHUB_NAME  = dbutils.secrets.get(scope = \"telco-secret-keys\", key = \"telco-order-hub\")\n",
    "\n",
    "event_hub_config = {\n",
    "    'eventhubs.connectionString': f'{CONNECTION_STR};EntityPath={EVENTHUB_NAME}'\n",
    "}\n",
    "\n",
    "# 2️⃣ Define schema for JSON body\n",
    "order_schema = StructType() \\\n",
    "    .add(\"OrderID\", StringType()) \\\n",
    "    .add(\"CustomerID\", StringType()) \\\n",
    "    .add(\"PlanID\", IntegerType()) \\\n",
    "    .add(\"OrderDate\", StringType()) \\\n",
    "    .add(\"Status\", StringType()) \\\n",
    "    .add(\"Amount\", IntegerType())\n",
    "\n",
    "# 3️⃣ Read from Event Hub\n",
    "raw_df = spark.readStream \\\n",
    "    .format(\"eventhubs\") \\\n",
    "    .options(**event_hub_config) \\\n",
    "    .load()\n",
    "\n",
    "# 4️⃣ Parse JSON body\n",
    "parsed_df = raw_df \\\n",
    "    .withColumn(\"body_str\", col(\"body\").cast(\"string\")) \\\n",
    "    .withColumn(\"data\", from_json(\"body_str\", order_schema)) \\\n",
    "    .select(\"data.*\")  # Flatten the struct\n",
    "\n",
    "# 5️⃣ Write to Bronze (Parquet or Delta) with checkpointing\n",
    "bronze_path = \"abfss://bronze@telcostoragelayer.dfs.core.windows.net/order/\"\n",
    "checkpoint_path = bronze_path + \"/_checkpoint\"\n",
    "display(parsed_df)\n",
    "query = parsed_df.writeStream \\\n",
    "    .format(\"parquet\")\\\n",
    "    .option(\"checkpointLocation\", checkpoint_path) \\\n",
    "    .option(\"path\", bronze_path + \"/data\") \\\n",
    "    .outputMode(\"append\") \\\n",
    "    .start()\n"
   ]
  }
 ],
 "metadata": {
  "application/vnd.databricks.v1+notebook": {
   "computePreferences": null,
   "dashboards": [],
   "environmentMetadata": {
    "base_environment": "",
    "environment_version": "3"
   },
   "inputWidgetPreferences": null,
   "language": "python",
   "notebookMetadata": {
    "pythonIndentUnit": 4
   },
   "notebookName": "order_consumer_bronze_layer",
   "widgets": {}
  },
  "language_info": {
   "name": "python"
  }
 },
 "nbformat": 4,
 "nbformat_minor": 0
}

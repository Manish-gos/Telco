{
 "cells": [
  {
   "cell_type": "markdown",
   "metadata": {
    "application/vnd.databricks.v1+cell": {
     "cellMetadata": {
      "byteLimit": 2048000,
      "rowLimit": 10000
     },
     "inputWidgets": {},
     "nuid": "b63a3673-6985-429a-a5a9-37a590ce9188",
     "showTitle": false,
     "tableResultSettingsMap": {},
     "title": ""
    }
   },
   "source": [
    "### reading data from order event contsiner\n"
   ]
  },
  {
   "cell_type": "code",
   "execution_count": 0,
   "metadata": {
    "application/vnd.databricks.v1+cell": {
     "cellMetadata": {
      "byteLimit": 2048000,
      "rowLimit": 10000
     },
     "inputWidgets": {},
     "nuid": "3bf682b1-8594-46f6-98e7-d85bc64e54b6",
     "showTitle": false,
     "tableResultSettingsMap": {},
     "title": ""
    }
   },
   "outputs": [],
   "source": [
    "from pyspark.sql.functions import col, from_json\n",
    "from pyspark.sql.types import StructType, StringType, StructField, IntegerType, DateType, TimestampType\n",
    "\n",
    "# Read Avro files\n",
    "df = spark.read.format('avro') \\\n",
    "    .option('ignoreExtension', 'true') \\\n",
    "    .option(\"recursiveFileLookup\", \"true\") \\\n",
    "    .load('abfss://order-events@telcostoragelayer.dfs.core.windows.net/')\n",
    "\n",
    "# Decode binary body\n",
    "decoded_df = df.select(\n",
    "    col(\"body\").cast(\"string\").alias(\"body_decoded\")\n",
    ")\n",
    "# convert json data into data frame\n",
    "json_schema=StructType([\n",
    "    StructField(\"OrderID\", StringType(), True),\n",
    "    StructField(\"CustomerID\", StringType(), True),\n",
    "    StructField(\"PlanID\", IntegerType(), True),\n",
    "    StructField(\"OrderDate\", StringType(), True),  # You can cast to DateType later\n",
    "    StructField(\"Status\", StringType(), True),\n",
    "    StructField(\"Amount\", IntegerType(), True)\n",
    "])\n",
    "data=decoded_df.select(from_json(col(\"body_decoded\"),json_schema).alias(\"data\")).select(\"data.*\").withColumnRenamed('OrderID','order_id').withColumnRenamed('OrderDate','order_date').withColumnRenamed('PlanID','plan_id').withColumnRenamed('Status','status').withColumnRenamed('Amount','amount').withColumnRenamed('CustomerID','customer_id')\n",
    "#display(data)\n",
    "data=data.coalesce(1)\n",
    "data.write.mode('overwrite').format('parquet').option('path','abfss://bronze@telcostoragelayer.dfs.core.windows.net/order/').save()"
   ]
  },
  {
   "cell_type": "code",
   "execution_count": 0,
   "metadata": {
    "application/vnd.databricks.v1+cell": {
     "cellMetadata": {
      "byteLimit": 2048000,
      "rowLimit": 10000
     },
     "inputWidgets": {},
     "nuid": "6d6e2972-13f0-4f7c-a3ca-93f17d954065",
     "showTitle": false,
     "tableResultSettingsMap": {},
     "title": ""
    }
   },
   "outputs": [],
   "source": [
    "data.display()\n"
   ]
  },
  {
   "cell_type": "code",
   "execution_count": 0,
   "metadata": {
    "application/vnd.databricks.v1+cell": {
     "cellMetadata": {
      "byteLimit": 2048000,
      "rowLimit": 10000
     },
     "inputWidgets": {},
     "nuid": "b4749e57-a8e4-4e77-a17f-91f0bcd5c7a9",
     "showTitle": false,
     "tableResultSettingsMap": {},
     "title": ""
    }
   },
   "outputs": [],
   "source": []
  }
 ],
 "metadata": {
  "application/vnd.databricks.v1+notebook": {
   "computePreferences": null,
   "dashboards": [],
   "environmentMetadata": {
    "base_environment": "",
    "environment_version": "3"
   },
   "inputWidgetPreferences": null,
   "language": "python",
   "notebookMetadata": {
    "pythonIndentUnit": 4
   },
   "notebookName": "order_bronze_layer",
   "widgets": {}
  },
  "language_info": {
   "name": "python"
  }
 },
 "nbformat": 4,
 "nbformat_minor": 0
}

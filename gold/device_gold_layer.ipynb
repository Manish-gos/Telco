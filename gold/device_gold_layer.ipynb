{
 "cells": [
  {
   "cell_type": "markdown",
   "metadata": {
    "application/vnd.databricks.v1+cell": {
     "cellMetadata": {
      "byteLimit": 2048000,
      "rowLimit": 10000
     },
     "inputWidgets": {},
     "nuid": "aacb0d6c-27b6-4a78-a5bf-fb0c41e52f4b",
     "showTitle": false,
     "tableResultSettingsMap": {},
     "title": ""
    }
   },
   "source": [
    "## Creating Dim Device table"
   ]
  },
  {
   "cell_type": "code",
   "execution_count": 0,
   "metadata": {
    "application/vnd.databricks.v1+cell": {
     "cellMetadata": {
      "byteLimit": 2048000,
      "rowLimit": 10000
     },
     "inputWidgets": {},
     "nuid": "7bd5c3f1-5ba1-41f0-9648-5037d3b35e07",
     "showTitle": false,
     "tableResultSettingsMap": {
      "0": {
       "dataGridStateBlob": "{\"version\":1,\"tableState\":{\"columnPinning\":{\"left\":[\"#row_number#\"],\"right\":[]},\"columnSizing\":{},\"columnVisibility\":{}},\"settings\":{\"columns\":{}},\"syncTimestamp\":1758140048461}",
       "filterBlob": null,
       "queryPlanFiltersBlob": null,
       "tableResultIndex": 0
      }
     },
     "title": ""
    }
   },
   "outputs": [],
   "source": [
    "from pyspark.sql.functions import *\n",
    "from pyspark.sql.window import Window\n",
    "from delta.tables import DeltaTable\n",
    "src_df=spark.read.format(\"delta\").load('abfss://silver@telcostoragelayer.dfs.core.windows.net/device/')\n",
    "src_df.display()"
   ]
  },
  {
   "cell_type": "code",
   "execution_count": 0,
   "metadata": {
    "application/vnd.databricks.v1+cell": {
     "cellMetadata": {
      "byteLimit": 2048000,
      "rowLimit": 10000
     },
     "inputWidgets": {},
     "nuid": "d93f748b-67ea-44d5-b12a-85cbaa3f9e61",
     "showTitle": false,
     "tableResultSettingsMap": {},
     "title": ""
    }
   },
   "outputs": [],
   "source": [
    "#createing dim table schema\n",
    "df_sink=spark.sql('''\n",
    "select 1 as dim_device_key,device_id,customer_id,imei_number,devicebrand,model,os,sim_number,imsi,network_type,activation_date,status,last_synced,timestamp from delta.`abfss://silver@telcostoragelayer.dfs.core.windows.net/device` where 1=0''')\n",
    "df_sink.display()\n"
   ]
  },
  {
   "cell_type": "markdown",
   "metadata": {
    "application/vnd.databricks.v1+cell": {
     "cellMetadata": {
      "byteLimit": 2048000,
      "rowLimit": 10000
     },
     "inputWidgets": {},
     "nuid": "d555ae9e-11c9-4e41-8b78-fc35a6918697",
     "showTitle": false,
     "tableResultSettingsMap": {},
     "title": ""
    }
   },
   "source": [
    "## dim customer sink initial and incremental"
   ]
  },
  {
   "cell_type": "code",
   "execution_count": 0,
   "metadata": {
    "application/vnd.databricks.v1+cell": {
     "cellMetadata": {
      "byteLimit": 2048000,
      "rowLimit": 10000
     },
     "inputWidgets": {},
     "nuid": "e6c35726-3fc3-47ba-9484-e8f1175c33cc",
     "showTitle": false,
     "tableResultSettingsMap": {},
     "title": ""
    }
   },
   "outputs": [],
   "source": [
    "if spark.catalog.tableExists('telco_catalog.gold.dim_device'):\n",
    "  df_sink=spark.sql('''\n",
    "    select dim_device_key,device_id,customer_id,imei_number,devicebrand,model,os,sim_number,imsi,network_type,activation_date,status,last_synced,timestamp from telco_catalog.gold.dim_device''')\n",
    "\n",
    "else:\n",
    "  df_sink=spark.sql('''\n",
    "    select 1 as dim_device_key,device_id,customer_id,imei_number,devicebrand,model,os,sim_number,imsi,network_type,activation_date,status,last_synced,timestamp from delta.`abfss://silver@telcostoragelayer.dfs.core.windows.net/device` where 1=0''')\n"
   ]
  },
  {
   "cell_type": "code",
   "execution_count": 0,
   "metadata": {
    "application/vnd.databricks.v1+cell": {
     "cellMetadata": {
      "byteLimit": 2048000,
      "rowLimit": 10000
     },
     "inputWidgets": {},
     "nuid": "9dae3499-cc42-4b85-9778-54e99cc3f0a8",
     "showTitle": false,
     "tableResultSettingsMap": {},
     "title": ""
    }
   },
   "outputs": [],
   "source": [
    "df_filter=src_df.join(df_sink,src_df.customer_id==df_sink.customer_id,'left').select(src_df.customer_id,src_df.device_id,src_df.imei_number,src_df.devicebrand,src_df.model,src_df.os,src_df.sim_number,src_df.imsi,src_df.network_type,src_df.activation_date,src_df.status,src_df.last_synced,src_df.timestamp,df_sink.dim_device_key.alias('dim_device_key'))\n",
    "df_filter.display()"
   ]
  },
  {
   "cell_type": "code",
   "execution_count": 0,
   "metadata": {
    "application/vnd.databricks.v1+cell": {
     "cellMetadata": {
      "byteLimit": 2048000,
      "rowLimit": 10000
     },
     "inputWidgets": {},
     "nuid": "2dd3667d-85a4-4a44-9e84-375ab4261842",
     "showTitle": false,
     "tableResultSettingsMap": {
      "0": {
       "dataGridStateBlob": "{\"version\":1,\"tableState\":{\"columnPinning\":{\"left\":[\"#row_number#\"],\"right\":[]},\"columnSizing\":{},\"columnVisibility\":{}},\"settings\":{\"columns\":{}},\"syncTimestamp\":1758141817635}",
       "filterBlob": null,
       "queryPlanFiltersBlob": null,
       "tableResultIndex": 0
      }
     },
     "title": ""
    }
   },
   "outputs": [],
   "source": [
    "df_filter_old=df_filter.filter(df_filter.dim_device_key.isNotNull()).select('customer_id','device_id','imei_number','devicebrand','model','os','sim_number','imsi','network_type','activation_date','status','last_synced','timestamp','dim_device_key')\n",
    "df_filter_old.display()\n"
   ]
  },
  {
   "cell_type": "code",
   "execution_count": 0,
   "metadata": {
    "application/vnd.databricks.v1+cell": {
     "cellMetadata": {
      "byteLimit": 2048000,
      "rowLimit": 10000
     },
     "inputWidgets": {},
     "nuid": "d47c9954-c5cd-4c9a-a45c-6d0f412328c9",
     "showTitle": false,
     "tableResultSettingsMap": {
      "0": {
       "dataGridStateBlob": "{\"version\":1,\"tableState\":{\"columnPinning\":{\"left\":[\"#row_number#\"],\"right\":[]},\"columnSizing\":{},\"columnVisibility\":{}},\"settings\":{\"columns\":{}},\"syncTimestamp\":1758141845857}",
       "filterBlob": null,
       "queryPlanFiltersBlob": null,
       "tableResultIndex": 0
      }
     },
     "title": ""
    }
   },
   "outputs": [],
   "source": [
    "df_filter_new=df_filter.filter(df_filter.dim_device_key.isNull()).select('customer_id','device_id','imei_number','devicebrand','model','os','sim_number','imsi','network_type','activation_date','status','last_synced','timestamp','dim_device_key')\n",
    "df_filter_new.display()"
   ]
  },
  {
   "cell_type": "code",
   "execution_count": 0,
   "metadata": {
    "application/vnd.databricks.v1+cell": {
     "cellMetadata": {
      "byteLimit": 2048000,
      "rowLimit": 10000
     },
     "inputWidgets": {},
     "nuid": "f31d5f77-d036-4407-9463-ca328d1b4b91",
     "showTitle": false,
     "tableResultSettingsMap": {
      "0": {
       "dataGridStateBlob": "{\"version\":1,\"tableState\":{\"columnPinning\":{\"left\":[\"#row_number#\"],\"right\":[]},\"columnSizing\":{},\"columnVisibility\":{}},\"settings\":{\"columns\":{}},\"syncTimestamp\":1758048187082}",
       "filterBlob": null,
       "queryPlanFiltersBlob": null,
       "tableResultIndex": 0
      }
     },
     "title": ""
    }
   },
   "outputs": [],
   "source": [
    "if not spark.catalog.tableExists('telco_catalog.gold.dim_device'):\n",
    "    max_value = 0\n",
    "    max_timestamp=0\n",
    "else:\n",
    "    result = spark.sql('SELECT MAX(dim_device_key) FROM telco_catalog.gold.dim_device').collect()[0][0]\n",
    "    max_value = result if result is not None else 0  # handle case when table exists but is empty\n",
    "    result= spark.sql('SELECT MAX(timestamp) FROM telco_catalog.gold.dim_device').collect()[0][0]\n",
    "    max_timestamp = result if result is not None else 0\n",
    "# Step 2: Assign row_number (you can order by something meaningful like customer_id or timestamp)\n",
    "windowSpec = Window.orderBy(\"customer_id\")  # Or use timestamp if needed\n",
    "df_filter_new = df_filter_new.withColumn(\"row_num\", row_number().over(windowSpec))\n",
    "\n",
    "# Step 3: Assign new surrogate keys\n",
    "df_filter_new = df_filter_new.withColumn(\"dim_device_key\", col(\"row_num\") + lit(max_value)).drop(\"row_num\")\n",
    "\n",
    "# Final output\n",
    "df_filter_new.display()"
   ]
  },
  {
   "cell_type": "markdown",
   "metadata": {
    "application/vnd.databricks.v1+cell": {
     "cellMetadata": {
      "byteLimit": 2048000,
      "rowLimit": 10000
     },
     "inputWidgets": {},
     "nuid": "e3d4f80c-484d-483a-9fee-754446d86403",
     "showTitle": false,
     "tableResultSettingsMap": {},
     "title": ""
    }
   },
   "source": [
    "## create a final df= df_filter_old+df_filter_new"
   ]
  },
  {
   "cell_type": "code",
   "execution_count": 0,
   "metadata": {
    "application/vnd.databricks.v1+cell": {
     "cellMetadata": {
      "byteLimit": 2048000,
      "rowLimit": 10000
     },
     "inputWidgets": {},
     "nuid": "159e7e7a-04a9-4439-9935-909c188942b1",
     "showTitle": false,
     "tableResultSettingsMap": {},
     "title": ""
    }
   },
   "outputs": [],
   "source": [
    "df_final=df_filter_old.union(df_filter_new)\n",
    "df_final=df_final.filter(df_final.timestamp>max_timestamp)\n",
    "df_final.display()\n"
   ]
  },
  {
   "cell_type": "code",
   "execution_count": 0,
   "metadata": {
    "application/vnd.databricks.v1+cell": {
     "cellMetadata": {
      "byteLimit": 2048000,
      "rowLimit": 10000
     },
     "inputWidgets": {},
     "nuid": "84b2c3c2-7be5-4b3d-b19b-6114c0d153e9",
     "showTitle": false,
     "tableResultSettingsMap": {},
     "title": ""
    }
   },
   "outputs": [],
   "source": [
    "\n",
    "if spark.catalog.tableExists('telco_catalog.gold.dim_device'):\n",
    "  delta_tbl=DeltaTable.forPath(spark,'abfss://gold@telcostoragelayer.dfs.core.windows.net/dim_device')\n",
    "  delta_tbl.alias('tgt').merge(df_final.alias('src'),'tgt.customer_id=src.customer_id').whenMatchedUpdateAll().whenNotMatchedInsertAll().execute()\n",
    "#initial run\n",
    "else:\n",
    "    df_final.write.format('delta').mode('overwrite').option('path','abfss://gold@telcostoragelayer.dfs.core.windows.net/dim_device').saveAsTable('telco_catalog.gold.dim_device')"
   ]
  }
 ],
 "metadata": {
  "application/vnd.databricks.v1+notebook": {
   "computePreferences": null,
   "dashboards": [],
   "environmentMetadata": {
    "base_environment": "",
    "environment_version": "3"
   },
   "inputWidgetPreferences": null,
   "language": "python",
   "notebookMetadata": {
    "pythonIndentUnit": 4
   },
   "notebookName": "device_gold_layer",
   "widgets": {}
  },
  "language_info": {
   "name": "python"
  }
 },
 "nbformat": 4,
 "nbformat_minor": 0
}

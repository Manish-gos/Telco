{
 "cells": [
  {
   "cell_type": "code",
   "execution_count": 0,
   "metadata": {
    "application/vnd.databricks.v1+cell": {
     "cellMetadata": {
      "byteLimit": 2048000,
      "rowLimit": 10000
     },
     "inputWidgets": {},
     "nuid": "3c1a4fdf-f5c6-4fff-9b03-f37b789be3a1",
     "showTitle": false,
     "tableResultSettingsMap": {},
     "title": ""
    }
   },
   "outputs": [],
   "source": [
    "from pyspark.sql.window import Window\n",
    "from pyspark.sql.functions import col, row_number\n",
    "\n",
    "silver_order_df=spark.read.format(\"delta\").load('abfss://silver@telcostoragelayer.dfs.core.windows.net/usage/')\n",
    "# Get latest customer dimension records\n",
    "dim_customer_df=spark.read.table(\"telco_catalog.gold.dim_customer\")\n",
    "customer_window = Window.partitionBy(\"customer_id\").orderBy(col(\"timestamp\").desc())\n",
    "latest_dim_customer = dim_customer_df.withColumn(\"rn\", row_number().over(customer_window)) \\\n",
    "                    .filter(col(\"rn\") == 1) \\\n",
    "                        .drop(\"rn\")\n"
   ]
  },
  {
   "cell_type": "code",
   "execution_count": 0,
   "metadata": {
    "application/vnd.databricks.v1+cell": {
     "cellMetadata": {
      "byteLimit": 2048000,
      "rowLimit": 10000
     },
     "inputWidgets": {},
     "nuid": "15370525-755c-42a7-b714-57c1b14ab43d",
     "showTitle": false,
     "tableResultSettingsMap": {},
     "title": ""
    }
   },
   "outputs": [],
   "source": [
    "# Join with latest dim_customer\n",
    "fact_df = silver_order_df.join(\n",
    "    latest_dim_customer.select(\"customer_id\", \"dim_customer_key\"),\n",
    "    on=\"customer_id\",\n",
    "    how=\"left\"\n",
    ")\n",
    "fact_df.display()\n"
   ]
  },
  {
   "cell_type": "code",
   "execution_count": 0,
   "metadata": {
    "application/vnd.databricks.v1+cell": {
     "cellMetadata": {
      "byteLimit": 2048000,
      "rowLimit": 10000
     },
     "inputWidgets": {},
     "nuid": "27f2bf55-5c66-49b2-b63e-6eb7861b00a1",
     "showTitle": false,
     "tableResultSettingsMap": {},
     "title": ""
    }
   },
   "outputs": [],
   "source": [
    "fact_order_df = fact_df.select(\n",
    "    \"usage_id\",\n",
    "    \"data_used_mb\",\n",
    "    \"usage_date\",\n",
    "    \"dim_customer_key\",\n",
    "    \"call_minutes\",\n",
    "    \"sms_count\",\n",
    "    \"roaming_minutes\"\n",
    ")\n",
    "fact_order_df.display()"
   ]
  },
  {
   "cell_type": "code",
   "execution_count": 0,
   "metadata": {
    "application/vnd.databricks.v1+cell": {
     "cellMetadata": {
      "byteLimit": 2048000,
      "rowLimit": 10000
     },
     "inputWidgets": {},
     "nuid": "74f007fc-3e65-438d-9074-d6236ff43338",
     "showTitle": false,
     "tableResultSettingsMap": {},
     "title": ""
    }
   },
   "outputs": [],
   "source": [
    "from delta.tables import DeltaTable\n",
    "\n",
    "# Set path or table name\n",
    "fact_table_path = \"telco_catalog.gold.fact_usage\"\n",
    "\n",
    "if spark.catalog.tableExists(fact_table_path):\n",
    "     delta_table=DeltaTable.forPath(spark,'abfss://gold@telcostoragelayer.dfs.core.windows.net/fact_usage')\n",
    "     delta_table.alias(\"target\") \\\n",
    "        .merge(\n",
    "            fact_order_df.alias(\"source\"),\n",
    "            \"target.usage_id = source.usage_id\"\n",
    "        ) \\\n",
    "        .whenMatchedUpdateAll() \\\n",
    "        .whenNotMatchedInsertAll() \\\n",
    "        .execute()\n",
    "else:\n",
    "    fact_order_df.write.format('delta').mode('overwrite').option('path','abfss://gold@telcostoragelayer.dfs.core.windows.net/fact_usage').saveAsTable('telco_catalog.gold.fact_usage')\n"
   ]
  },
  {
   "cell_type": "code",
   "execution_count": 0,
   "metadata": {
    "application/vnd.databricks.v1+cell": {
     "cellMetadata": {
      "byteLimit": 2048000,
      "implicitDf": true,
      "rowLimit": 10000
     },
     "inputWidgets": {},
     "nuid": "e0923590-3560-494d-8d34-359f15deb3a9",
     "showTitle": false,
     "tableResultSettingsMap": {},
     "title": ""
    }
   },
   "outputs": [],
   "source": [
    "display(spark.read.table(\"telco_catalog.gold.fact_usage\"))"
   ]
  }
 ],
 "metadata": {
  "application/vnd.databricks.v1+notebook": {
   "computePreferences": null,
   "dashboards": [],
   "environmentMetadata": {
    "base_environment": "",
    "environment_version": "3"
   },
   "inputWidgetPreferences": null,
   "language": "python",
   "notebookMetadata": {
    "mostRecentlyExecutedCommandWithImplicitDF": {
     "commandId": -1,
     "dataframes": [
      "_sqldf"
     ]
    },
    "pythonIndentUnit": 4
   },
   "notebookName": "usage_fact_gold_layer",
   "widgets": {}
  },
  "language_info": {
   "name": "python"
  }
 },
 "nbformat": 4,
 "nbformat_minor": 0
}

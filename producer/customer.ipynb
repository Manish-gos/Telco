{
 "cells": [
  {
   "cell_type": "code",
   "execution_count": 0,
   "metadata": {
    "application/vnd.databricks.v1+cell": {
     "cellMetadata": {
      "byteLimit": 2048000,
      "rowLimit": 10000
     },
     "inputWidgets": {},
     "nuid": "db68bbe1-3142-4dd3-bdbc-90848ba428ae",
     "showTitle": false,
     "tableResultSettingsMap": {},
     "title": ""
    }
   },
   "outputs": [],
   "source": [
    "pip install azure-eventhub faker"
   ]
  },
  {
   "cell_type": "code",
   "execution_count": 0,
   "metadata": {
    "application/vnd.databricks.v1+cell": {
     "cellMetadata": {
      "byteLimit": 2048000,
      "rowLimit": 10000
     },
     "inputWidgets": {},
     "nuid": "fff152fd-c926-41e4-9cb6-a3eda611cdc7",
     "showTitle": false,
     "tableResultSettingsMap": {},
     "title": ""
    }
   },
   "outputs": [],
   "source": [
    "\n"
   ]
  },
  {
   "cell_type": "code",
   "execution_count": 0,
   "metadata": {
    "application/vnd.databricks.v1+cell": {
     "cellMetadata": {
      "byteLimit": 2048000,
      "rowLimit": 10000
     },
     "inputWidgets": {},
     "nuid": "181248e7-ed31-4301-bce1-50b2730c8b4b",
     "showTitle": false,
     "tableResultSettingsMap": {},
     "title": ""
    }
   },
   "outputs": [],
   "source": [
    "import json\n",
    "import time\n",
    "import uuid\n",
    "from datetime import datetime\n",
    "from azure.eventhub import EventHubProducerClient, EventData\n",
    "from faker import Faker\n",
    "import random\n",
    "\n",
    "# -------------------\n",
    "# Azure Event Hub Config\n",
    "# -------------------\n",
    "CONNECTION_STR = dbutils.secrets.get(scope = \"telco-secret-keys\", key = \"telco-customer-policy\")\n",
    "EVENTHUB_NAME = dbutils.secrets.get(scope = \"telco-secret-keys\", key = \"telco-customer-hub\")\n",
    "\n",
    "# -------------------\n",
    "# Faker Setup\n",
    "# -------------------\n",
    "fake = Faker(\"en_IN\")  # Indian locale\n",
    "\n",
    "def custom_indian_phone_number():\n",
    "    # Choose starting digit from 6, 7, 8, 9\n",
    "    start_digit = str(random.choice([6, 7, 8, 9]))\n",
    "    # Generate the remaining 9 digits\n",
    "    remaining = fake.numerify('#########')\n",
    "    return start_digit + remaining\n",
    "\n",
    "\n",
    "def generate_customer(customer_id):\n",
    "    first_name= fake.first_name()\n",
    "    last_name= fake.last_name()\n",
    "    customer_record = {\n",
    "        \"customer_id\": f\"{customer_id+1000:04d}\",\n",
    "        \"first_name\": first_name,\n",
    "        \"last_name\": last_name,\n",
    "        \"gender\": random.choice([\"Male\", \"Female\"]),\n",
    "        \"dob\": fake.date_of_birth(minimum_age=18, maximum_age=70).strftime(\"%Y-%m-%d\"),\n",
    "        \"phone_number\": custom_indian_phone_number(),\n",
    "        \"email\": f'{first_name.lower()}.{last_name.lower()}@{fake.domain_name()}',\n",
    "        \"address\": {\n",
    "            \"street\": fake.street_address(),\n",
    "            \"city\": fake.city(),\n",
    "            \"state\": fake.state(),\n",
    "            \"zip\": fake.postcode(),\n",
    "            \"country\": \"India\"\n",
    "        },\n",
    "        \"event_id\": str(uuid.uuid4()),\n",
    "        \"event_time\": datetime.utcnow().isoformat()\n",
    "    }\n",
    "    return customer_record\n",
    "\n",
    "\n",
    "# -------------------\n",
    "# Event Hub Producer\n",
    "# -------------------\n",
    "producer = EventHubProducerClient.from_connection_string(\n",
    "    conn_str=CONNECTION_STR,\n",
    "    eventhub_name=EVENTHUB_NAME\n",
    ")\n",
    "\n",
    "with producer:\n",
    "    for i in range(50):  # generate and send 10 records\n",
    "        record = generate_customer(i+1)\n",
    "        event_data = EventData(json.dumps(record))\n",
    "        producer.send_batch([event_data])\n",
    "        print(f\"✅ Sent: {record}\")\n",
    "        time.sleep(1)  # wait 1 sec between events\n"
   ]
  },
  {
   "cell_type": "code",
   "execution_count": 0,
   "metadata": {
    "application/vnd.databricks.v1+cell": {
     "cellMetadata": {
      "byteLimit": 2048000,
      "rowLimit": 10000
     },
     "inputWidgets": {},
     "nuid": "cbdbbbe6-f4ad-443b-98da-2e1371110562",
     "showTitle": false,
     "tableResultSettingsMap": {},
     "title": ""
    }
   },
   "outputs": [],
   "source": []
  }
 ],
 "metadata": {
  "application/vnd.databricks.v1+notebook": {
   "computePreferences": {
    "hardware": {
     "accelerator": null,
     "gpuPoolId": null,
     "memory": null
    }
   },
   "dashboards": [],
   "environmentMetadata": {
    "base_environment": "",
    "environment_version": "3"
   },
   "inputWidgetPreferences": null,
   "language": "python",
   "notebookMetadata": {
    "pythonIndentUnit": 4
   },
   "notebookName": "customer",
   "widgets": {}
  },
  "language_info": {
   "name": "python"
  }
 },
 "nbformat": 4,
 "nbformat_minor": 0
}

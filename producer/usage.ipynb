{
 "cells": [
  {
   "cell_type": "code",
   "execution_count": 0,
   "metadata": {
    "application/vnd.databricks.v1+cell": {
     "cellMetadata": {
      "byteLimit": 2048000,
      "rowLimit": 10000
     },
     "inputWidgets": {},
     "nuid": "d79d4e35-713d-4dac-b315-6cff522fddca",
     "showTitle": false,
     "tableResultSettingsMap": {},
     "title": ""
    }
   },
   "outputs": [],
   "source": [
    "pip install azure-eventhub faker"
   ]
  },
  {
   "cell_type": "code",
   "execution_count": 0,
   "metadata": {
    "application/vnd.databricks.v1+cell": {
     "cellMetadata": {
      "byteLimit": 2048000,
      "rowLimit": 10000
     },
     "inputWidgets": {},
     "nuid": "d1cdc243-a3e6-4e5a-ace0-9d62175cb484",
     "showTitle": false,
     "tableResultSettingsMap": {},
     "title": ""
    }
   },
   "outputs": [],
   "source": [
    "import json\n",
    "import random\n",
    "from datetime import datetime, timedelta\n",
    "from faker import Faker\n",
    "from azure.eventhub import EventHubProducerClient, EventData\n",
    "\n",
    "# ----------------------------\n",
    "# Azure Event Hub Connection\n",
    "# ----------------------------\n",
    "CONNECTION_STR = dbutils.secrets.get(scope = \"telco-secret-keys\", key = \"telco-usage-policy\")\n",
    "EVENTHUB_NAME = dbutils.secrets.get(scope = \"telco-secret-keys\", key = \"telco-usage-hub\")\n",
    "\n",
    "# ----------------------------\n",
    "# Initialize Faker\n",
    "# ----------------------------\n",
    "fake = Faker()\n",
    "\n",
    "# Customer IDs 1000–1100\n",
    "CUSTOMER_IDS = list(range(1000, 1101))\n",
    "\n",
    "# ----------------------------\n",
    "# Generate Usage Record\n",
    "# ----------------------------\n",
    "def generate_usage(customer_id):\n",
    "    return {\n",
    "        \"UsageID\": f\"U{random.randint(10000, 99999)}\",\n",
    "        \"CustomerID\": customer_id,\n",
    "        \"UsageDate\": (datetime.now() - timedelta(days=random.randint(0, 30))).strftime(\"%Y-%m-%d\"),\n",
    "        \"DataUsedMB\": random.randint(100, 5000),       # 100MB – 5GB\n",
    "        \"CallMinutes\": random.randint(0, 500),         # 0 – 500 mins\n",
    "        \"SMSCount\": random.randint(0, 200),            # 0 – 200 SMS\n",
    "        \"RoamingMinutes\": random.randint(0, 100)       # 0 – 100 mins\n",
    "    }\n",
    "\n",
    "# ----------------------------\n",
    "# Send to Event Hub\n",
    "# ----------------------------\n",
    "def send_usage_events(num_events=50):\n",
    "    producer = EventHubProducerClient.from_connection_string(\n",
    "        conn_str=CONNECTION_STR,\n",
    "        eventhub_name=EVENTHUB_NAME\n",
    "    )\n",
    "    event_batch = producer.create_batch()\n",
    "\n",
    "    for _ in range(num_events):\n",
    "        customer_id = random.choice(CUSTOMER_IDS)\n",
    "        usage_record = generate_usage(customer_id)\n",
    "        event_data = EventData(json.dumps(usage_record))\n",
    "        event_batch.add(event_data)\n",
    "\n",
    "    producer.send_batch(event_batch)\n",
    "    print(f\"✅ Sent {num_events} usage events to Event Hub\")\n",
    "\n",
    "# ----------------------------\n",
    "# Run\n",
    "# ----------------------------\n",
    "if __name__ == \"__main__\":\n",
    "    send_usage_events(100)  # Send 100 usage events\n"
   ]
  }
 ],
 "metadata": {
  "application/vnd.databricks.v1+notebook": {
   "computePreferences": null,
   "dashboards": [],
   "environmentMetadata": {
    "base_environment": "",
    "environment_version": "3"
   },
   "inputWidgetPreferences": null,
   "language": "python",
   "notebookMetadata": {
    "pythonIndentUnit": 4
   },
   "notebookName": "usage",
   "widgets": {}
  },
  "language_info": {
   "name": "python"
  }
 },
 "nbformat": 4,
 "nbformat_minor": 0
}

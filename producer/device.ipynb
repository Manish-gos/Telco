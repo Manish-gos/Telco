{
 "cells": [
  {
   "cell_type": "code",
   "execution_count": 0,
   "metadata": {
    "application/vnd.databricks.v1+cell": {
     "cellMetadata": {
      "byteLimit": 2048000,
      "rowLimit": 10000
     },
     "inputWidgets": {},
     "nuid": "29fa2ec6-ab08-415f-b778-3b164febb03a",
     "showTitle": false,
     "tableResultSettingsMap": {},
     "title": ""
    }
   },
   "outputs": [],
   "source": [
    "pip install faker azure-eventhub"
   ]
  },
  {
   "cell_type": "code",
   "execution_count": 0,
   "metadata": {
    "application/vnd.databricks.v1+cell": {
     "cellMetadata": {
      "byteLimit": 2048000,
      "rowLimit": 10000
     },
     "inputWidgets": {},
     "nuid": "a17d5a3f-9cad-4598-b7e3-e60342d1c621",
     "showTitle": false,
     "tableResultSettingsMap": {},
     "title": ""
    }
   },
   "outputs": [],
   "source": [
    "import json\n",
    "import random\n",
    "import time\n",
    "from datetime import datetime, timedelta\n",
    "from faker import Faker\n",
    "from azure.eventhub import EventHubProducerClient, EventData\n",
    "\n",
    "# Initialize Faker\n",
    "fake = Faker()\n",
    "\n",
    "# Azure Event Hub Connection (replace with Key Vault secret retrieval in real projects)\n",
    "CONNECTION_STR = dbutils.secrets.get(scope = \"telco-secret-keys\", key = \"telco-device-policy\")\n",
    "EVENTHUB_NAME = dbutils.secrets.get(scope = \"telco-secret-keys\", key = \"telco-device-hub\")\n",
    "\n",
    "# Device and Customer Info\n",
    "CUSTOMER_IDS = list(range(1000, 1101))\n",
    "DEVICE_BRANDS = {\n",
    "    \"Samsung\": [\"Galaxy S21\", \"Galaxy S22\", \"Galaxy S23\"],\n",
    "    \"Apple\": [\"iPhone 13\", \"iPhone 14\", \"iPhone 15\"],\n",
    "    \"OnePlus\": [\"Nord CE\", \"OnePlus 9\", \"OnePlus 11\"],\n",
    "    \"Xiaomi\": [\"Redmi Note 11\", \"Mi 11X\", \"Poco F4\"],\n",
    "    \"Google\": [\"Pixel 6\", \"Pixel 7\", \"Pixel 8\"],\n",
    "    \"Huawei\": [\"P40\", \"P50\", \"Mate 40\"]\n",
    "}\n",
    "OS_MAP = {\n",
    "    \"Samsung\": \"Android 14\",\n",
    "    \"Apple\": \"iOS 18\",\n",
    "    \"OnePlus\": \"Android 14\",\n",
    "    \"Xiaomi\": \"Android 13\",\n",
    "    \"Google\": \"Android 14\",\n",
    "    \"Huawei\": \"HarmonyOS 4\"\n",
    "}\n",
    "NETWORK_TYPES = [\"4G\", \"5G\"]\n",
    "\n",
    "# Function to generate device record\n",
    "def generate_device_record(device_id,customer_id):\n",
    "    customer_id = f\"{customer_id+1000:04d}\"\n",
    "    brand = random.choice(list(DEVICE_BRANDS.keys()))\n",
    "    model = random.choice(DEVICE_BRANDS[brand])\n",
    "    return {\n",
    "        \"device_id\": f\"DVC{device_id}\",\n",
    "        \"customer\": customer_id,\n",
    "        \"imei_number\": str(random.randint(100000000000000, 999999999999999)),\n",
    "        \"devicebrand\": brand,\n",
    "        \"model\": model,\n",
    "        \"os\": OS_MAP[brand],\n",
    "        \"sim_number\": str(random.randint(8991101200000000000, 8991101299999999999)),\n",
    "        \"imsi\": str(random.randint(405870000000000, 405879999999999)),\n",
    "        \"network_type\": random.choice(NETWORK_TYPES),\n",
    "        \"activation_date\": (datetime.now() - timedelta(days=random.randint(30, 365))).strftime(\"%Y-%m-%d\"),\n",
    "        \"status\": random.choice([\"Active\", \"Suspended\", \"Inactive\"]),\n",
    "        \"last_synced\": datetime.now().strftime(\"%Y-%m-%d %H:%M:%S\")\n",
    "    }\n",
    "\n",
    "# Event Hub Producer\n",
    "producer = EventHubProducerClient.from_connection_string(conn_str=CONNECTION_STR, eventhub_name=EVENTHUB_NAME)\n",
    "\n",
    "with producer:\n",
    "    for i in range(50):  # generate and send 10 records\n",
    "        record = generate_device_record(i+1,i+1)\n",
    "        event_data = EventData(json.dumps(record))\n",
    "        producer.send_batch([event_data])\n",
    "        print(f\"✅ Sent: {record}\")\n",
    "        time.sleep(1)  # wait 1 sec between events"
   ]
  }
 ],
 "metadata": {
  "application/vnd.databricks.v1+notebook": {
   "computePreferences": null,
   "dashboards": [],
   "environmentMetadata": {
    "base_environment": "",
    "environment_version": "3"
   },
   "inputWidgetPreferences": null,
   "language": "python",
   "notebookMetadata": {
    "pythonIndentUnit": 4
   },
   "notebookName": "device",
   "widgets": {}
  },
  "language_info": {
   "name": "python"
  }
 },
 "nbformat": 4,
 "nbformat_minor": 0
}

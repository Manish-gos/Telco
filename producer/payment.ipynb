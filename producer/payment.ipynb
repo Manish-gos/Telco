{
 "cells": [
  {
   "cell_type": "code",
   "execution_count": 0,
   "metadata": {
    "application/vnd.databricks.v1+cell": {
     "cellMetadata": {
      "byteLimit": 2048000,
      "rowLimit": 10000
     },
     "inputWidgets": {},
     "nuid": "471c9d2e-f73d-4852-b721-85d0fa534c30",
     "showTitle": false,
     "tableResultSettingsMap": {},
     "title": ""
    }
   },
   "outputs": [],
   "source": [
    "pip install azure.eventhub faker"
   ]
  },
  {
   "cell_type": "code",
   "execution_count": 0,
   "metadata": {
    "application/vnd.databricks.v1+cell": {
     "cellMetadata": {
      "byteLimit": 2048000,
      "rowLimit": 10000
     },
     "inputWidgets": {},
     "nuid": "3b727af6-6db3-4315-81cf-7212e65532c0",
     "showTitle": false,
     "tableResultSettingsMap": {},
     "title": ""
    }
   },
   "outputs": [],
   "source": [
    "import json\n",
    "import random\n",
    "from datetime import datetime, timedelta\n",
    "from faker import Faker\n",
    "from azure.eventhub import EventHubProducerClient, EventData\n",
    "\n",
    "# ----------------------------\n",
    "# Azure Event Hub Config\n",
    "# ----------------------------\n",
    "CONNECTION_STR = dbutils.secrets.get(scope = \"telco-secret-keys\", key = \"telco-payment-policy\")\n",
    "EVENTHUB_NAME = dbutils.secrets.get(scope = \"telco-secret-keys\", key = \"telco-payment-hub\")\n",
    "# ----------------------------\n",
    "# Faker Setup\n",
    "# ----------------------------\n",
    "fake = Faker()\n",
    "CUSTOMER_IDS = list(range(1000, 1101))  # Customer IDs: 1000–1100\n",
    "PAYMENT_METHODS = [\"Credit Card\", \"Debit Card\", \"UPI\", \"Net Banking\", \"Wallet\"]\n",
    "PAYMENT_STATUS = [\"Paid\", \"Pending\", \"Failed\"]\n",
    "\n",
    "# ----------------------------\n",
    "# Generate Payment Record\n",
    "# ----------------------------\n",
    "def generate_payment(payment_id):\n",
    "    customer_id = random.choice(CUSTOMER_IDS)\n",
    "    amount = random.choice([199, 299, 499, 719, 799, 999, 1499])\n",
    "    return {\n",
    "        \"PaymentID\": f\"P{payment_id}\",\n",
    "        \"CustomerID\": customer_id,\n",
    "        \"PaymentDate\": (datetime.now() - timedelta(days=random.randint(0, 30))).strftime(\"%Y-%m-%d\"),\n",
    "        \"Amount\": amount,\n",
    "        \"Currency\": \"INR\",\n",
    "        \"PaymentMethod\": random.choice(PAYMENT_METHODS),\n",
    "        \"TransactionID\": f\"TXN{random.randint(100000,999999)}\",\n",
    "        \"PaymentStatus\": random.choice(PAYMENT_STATUS),\n",
    "        \"InvoiceID\": f\"INV{random.randint(5000,5999)}\"\n",
    "    }\n",
    "\n",
    "# ----------------------------\n",
    "# Send Events to Event Hub\n",
    "# ----------------------------\n",
    "def send_payment_events(num_events=50):\n",
    "    producer = EventHubProducerClient.from_connection_string(\n",
    "        conn_str=CONNECTION_STR,\n",
    "        eventhub_name=EVENTHUB_NAME\n",
    "    )\n",
    "    event_batch = producer.create_batch()\n",
    "\n",
    "    for i in range(num_events):\n",
    "        payment_record = generate_payment(10000 + i)\n",
    "        event_data = EventData(json.dumps(payment_record))\n",
    "        event_batch.add(event_data)\n",
    "\n",
    "    producer.send_batch(event_batch)\n",
    "    print(f\"✅ Sent {num_events} payment events to Event Hub\")\n",
    "\n",
    "# ----------------------------\n",
    "# Main\n",
    "# ----------------------------\n",
    "if __name__ == \"__main__\":\n",
    "    send_payment_events(50)  # send 50 dummy payment records\n"
   ]
  }
 ],
 "metadata": {
  "application/vnd.databricks.v1+notebook": {
   "computePreferences": null,
   "dashboards": [],
   "environmentMetadata": {
    "base_environment": "",
    "environment_version": "3"
   },
   "inputWidgetPreferences": null,
   "language": "python",
   "notebookMetadata": {
    "pythonIndentUnit": 4
   },
   "notebookName": "payment",
   "widgets": {}
  },
  "language_info": {
   "name": "python"
  }
 },
 "nbformat": 4,
 "nbformat_minor": 0
}

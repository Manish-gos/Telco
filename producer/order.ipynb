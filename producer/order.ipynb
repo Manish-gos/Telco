{
 "cells": [
  {
   "cell_type": "code",
   "execution_count": 0,
   "metadata": {
    "application/vnd.databricks.v1+cell": {
     "cellMetadata": {
      "byteLimit": 2048000,
      "rowLimit": 10000
     },
     "inputWidgets": {},
     "nuid": "5c4fa370-8f8e-4085-a3c9-6cd74ae1b9bf",
     "showTitle": false,
     "tableResultSettingsMap": {},
     "title": ""
    }
   },
   "outputs": [],
   "source": [
    "pip install azure-eventhub faker"
   ]
  },
  {
   "cell_type": "code",
   "execution_count": 0,
   "metadata": {
    "application/vnd.databricks.v1+cell": {
     "cellMetadata": {
      "byteLimit": 2048000,
      "rowLimit": 10000
     },
     "inputWidgets": {},
     "nuid": "1cd38fdf-742f-4eb0-acfd-f0f4bcd23cf4",
     "showTitle": false,
     "tableResultSettingsMap": {},
     "title": ""
    }
   },
   "outputs": [],
   "source": [
    "import json\n",
    "import time\n",
    "import uuid\n",
    "from datetime import datetime, timedelta\n",
    "from azure.eventhub import EventHubProducerClient, EventData\n",
    "from faker import Faker\n",
    "import random\n",
    "\n",
    "# ----------------------------\n",
    "# Azure Event Hub Connection\n",
    "# ----------------------------\n",
    "# ✅ Replace with your Event Hub details\n",
    "CONNECTION_STR = dbutils.secrets.get(scope = \"telco-secret-keys\", key = \"telco-order-policy\")\n",
    "EVENTHUB_NAME = dbutils.secrets.get(scope = \"telco-secret-keys\", key = \"telco-order-hub\")\n",
    "\n",
    "# ----------------------------\n",
    "# Initialize Faker\n",
    "# ----------------------------\n",
    "fake = Faker()\n",
    "\n",
    "# Example plan IDs from your Products/Plans table\n",
    "PLAN_IDS = list(range(101, 155))  # e.g., 101–200\n",
    "\n",
    "# ----------------------------\n",
    "# Function to generate fake order\n",
    "# ----------------------------\n",
    "def generate_order(order_id,customer_id):\n",
    "    return {\n",
    "        \"OrderID\": f\"O{order_id:05d}\",\n",
    "        \"CustomerID\": f\"{customer_id+1000:04d}\",  # Assume 50 customers\n",
    "        \"PlanID\": random.choice(PLAN_IDS),\n",
    "        \"OrderDate\": (datetime.now() - timedelta(days=random.randint(1, 365))).strftime(\"%Y-%m-%d\"),\n",
    "        \"Status\": random.choice([\"Completed\", \"Pending\", \"Cancelled\"]),\n",
    "        \"Amount\": random.choice([199, 299, 399, 499, 699, 999, 1299, 1499])\n",
    "    }\n",
    "\n",
    "# ----------------------------\n",
    "# Send Events to Event Hub\n",
    "# ----------------------------\n",
    "def send_orders_to_eventhub(num_events=10):\n",
    "    producer = EventHubProducerClient.from_connection_string(\n",
    "        conn_str=CONNECTION_STR,\n",
    "        eventhub_name=EVENTHUB_NAME\n",
    "    )\n",
    "\n",
    "    event_batch = producer.create_batch()\n",
    "\n",
    "    for i in range(num_events):\n",
    "        order = generate_order(i + 1,i+1)\n",
    "        event_data = EventData(json.dumps(order))\n",
    "        event_batch.add(event_data)\n",
    "        print(f\"Sending order: {order}\")\n",
    "\n",
    "    producer.send_batch(event_batch)\n",
    "    print(f\"✅ Sent {num_events} orders to Event Hub\")\n",
    "\n",
    "# ----------------------------\n",
    "# Run\n",
    "# ----------------------------\n",
    "if __name__ == \"__main__\":\n",
    "    send_orders_to_eventhub(50)  # Send 20 fake orders\n"
   ]
  }
 ],
 "metadata": {
  "application/vnd.databricks.v1+notebook": {
   "computePreferences": null,
   "dashboards": [],
   "environmentMetadata": {
    "base_environment": "",
    "environment_version": "3"
   },
   "inputWidgetPreferences": null,
   "language": "python",
   "notebookMetadata": {
    "pythonIndentUnit": 4
   },
   "notebookName": "order",
   "widgets": {}
  },
  "language_info": {
   "name": "python"
  }
 },
 "nbformat": 4,
 "nbformat_minor": 0
}

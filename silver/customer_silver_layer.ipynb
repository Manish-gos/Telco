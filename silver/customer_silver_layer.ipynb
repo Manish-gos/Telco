{
 "cells": [
  {
   "cell_type": "code",
   "execution_count": 0,
   "metadata": {
    "application/vnd.databricks.v1+cell": {
     "cellMetadata": {
      "byteLimit": 2048000,
      "rowLimit": 10000
     },
     "inputWidgets": {},
     "nuid": "c24d4739-6c12-423e-bf60-f5f6e763093e",
     "showTitle": false,
     "tableResultSettingsMap": {},
     "title": ""
    }
   },
   "outputs": [],
   "source": [
    "df=spark.read.format('parquet').options(header=True, inferSchema=True)\\\n",
    "    .load('abfss://bronze@telcostoragelayer.dfs.core.windows.net/customer/')\n"
   ]
  },
  {
   "cell_type": "code",
   "execution_count": 0,
   "metadata": {
    "application/vnd.databricks.v1+cell": {
     "cellMetadata": {
      "byteLimit": 2048000,
      "rowLimit": 10000
     },
     "inputWidgets": {},
     "nuid": "d7680d96-698a-4b84-8912-ae07a9a083dc",
     "showTitle": false,
     "tableResultSettingsMap": {},
     "title": ""
    }
   },
   "outputs": [],
   "source": [
    "from  pyspark.sql.functions import *\n",
    "df=df.withColumn('street', col(\"address.street\"))\\\n",
    "    .withColumn('city',df.address.city)\\\n",
    "    .withColumn('state',df.address.state)\\\n",
    "        .withColumn('zip',df.address.zip)\\\n",
    "            .withColumn('country',df.address.country)\n",
    "\n"
   ]
  },
  {
   "cell_type": "code",
   "execution_count": 0,
   "metadata": {
    "application/vnd.databricks.v1+cell": {
     "cellMetadata": {
      "byteLimit": 2048000,
      "rowLimit": 10000
     },
     "inputWidgets": {},
     "nuid": "639d5698-7fff-40ab-8354-903f017bf8cc",
     "showTitle": false,
     "tableResultSettingsMap": {},
     "title": ""
    }
   },
   "outputs": [],
   "source": [
    "\n",
    "df=df.withColumn('timestamp', date_format(\n",
    "        to_timestamp(\"event_time\"),  # Parse string to timestamp\n",
    "        \"yyyyMMddHHmmss\").cast('long'))\n",
    "df=df.withColumn('phone_number',col('phone_number').cast('long'))\n",
    "df=df.drop(\"address\").drop('event_id').drop('event_time')\n",
    "df.display()"
   ]
  },
  {
   "cell_type": "code",
   "execution_count": 0,
   "metadata": {
    "application/vnd.databricks.v1+cell": {
     "cellMetadata": {
      "byteLimit": 2048000,
      "rowLimit": 10000
     },
     "inputWidgets": {},
     "nuid": "e221a676-7f99-435b-b8fa-b4fce8e37e81",
     "showTitle": false,
     "tableResultSettingsMap": {},
     "title": ""
    }
   },
   "outputs": [],
   "source": [
    "df.write.format('delta').mode('overwrite').save('abfss://silver@telcostoragelayer.dfs.core.windows.net/customer/')"
   ]
  }
 ],
 "metadata": {
  "application/vnd.databricks.v1+notebook": {
   "computePreferences": null,
   "dashboards": [],
   "environmentMetadata": {
    "base_environment": "",
    "environment_version": "3"
   },
   "inputWidgetPreferences": null,
   "language": "python",
   "notebookMetadata": {
    "pythonIndentUnit": 4
   },
   "notebookName": "customer_silver_layer",
   "widgets": {}
  },
  "language_info": {
   "name": "python"
  }
 },
 "nbformat": 4,
 "nbformat_minor": 0
}
